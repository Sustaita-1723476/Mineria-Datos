{
 "cells": [
  {
   "cell_type": "markdown",
   "metadata": {},
   "source": [
    "# Minería de datos \n",
    "##  Avance del Producto Integrador de Aprendizaje\n",
    "### Base a trabajar: Estadísticas de suicidio de la OMS\n",
    "#### URL: https://www.kaggle.com/szamil/who-suicide-statistics\n",
    "\n",
    "#### Integrantes del Equipo 10, grupo 003: \n",
    "- Andrea Isabel Cortez Sánchez 1736472\n",
    "- Sergio Oviedo Martínez 1750532\n",
    "- Andrés Hernandez de Luna 1757180\n",
    "- Johan Antonio Sustaita Martinez 1723476"
   ]
  },
  {
   "cell_type": "code",
   "execution_count": 18,
   "metadata": {},
   "outputs": [],
   "source": [
    "#Mandamos llamar a nuestra base de datos\n",
    "import pandas\n",
    "import numpy \n",
    "import json \n",
    "data1 = pd.read_csv(\"C:/Users/andhd/Downloads/who_suicide_statistics.csv\")"
   ]
  },
  {
   "cell_type": "markdown",
   "metadata": {},
   "source": [
    "#### Tipo de Datos:\n",
    "\n",
    "- Estos datos son estadísticas de mortalidad brindada por la OMS. Al observar los datos, puede observar las tendencias a largo plazo y las diferencias entre países, así como dentro de los países en unos pocos grupos demográficos; en ambos casos, verá que estas diferencias pueden ser muy grandes.\n",
    "\n",
    "- Columna 1 'Country': Nos muestra la país de la que se está hablando.\n",
    "- Columna 2 'Year': Año del registro.\n",
    "- Columna 3 'Sex': Género de las personas.\n",
    "- Columna 4 'Age': Rango de edades.\n",
    "- Columna 5 'Suicides_no': Número de suicidios.\n",
    "- Columna 6 'Population': Total de población.\n",
    "\n",
    "#### Justificación de los datos: \n",
    "\n",
    "- La potencia vista en esta base fue el poder concientizar más a la sociedad sobre este delicado tema, pero para eso debemos conocer en que rango de edades y que país es donde se tienen mas registros y así trabajar en una buena campaña para ayudar a quienes más lo necesitan. \n",
    "- Hoy en día estamos pasando por una pandemia donde muchos se están resguardando en sus casas para el propio cuidado, pero eso ha afectado un poco la estabilidad emocional de los individuos. Nos gustaría comparar esta base de datos con los nuevos datos registrados durante estos últimos 12 meses.\n",
    "\n",
    "#### Objetivo:\n",
    "\n",
    "- Crear un perfil por pais para saber estadisticamente las edades mas propensas del suicidio.\n",
    "\n",
    "#### Objetivo secundario:\n",
    "\n",
    "- Definir cuales son los paises con mas y menos suicidios asi como si hay mas masculinos o femeninos\n",
    "\n",
    "#### Preguntas de interés:\n",
    "\n",
    "- ¿ Cual es el rango con propensidad al suicidio en hombres?\n",
    "- ¿ Cual es el rango con propensidad en mujeres?\n",
    "- ¿ Continente mas propenso a suicidios?\n",
    "- ¿ Pais con menos casos de suicidio? \n",
    "\n"
   ]
  },
  {
   "cell_type": "markdown",
   "metadata": {},
   "source": [
    "## Parte de programación:"
   ]
  },
  {
   "cell_type": "markdown",
   "metadata": {},
   "source": [
    "En esta parte del programa postramos todos los datos que tenemos en nuestra base de datos"
   ]
  },
  {
   "cell_type": "code",
   "execution_count": 4,
   "metadata": {},
   "outputs": [
    {
     "data": {
      "text/html": [
       "<div>\n",
       "<style scoped>\n",
       "    .dataframe tbody tr th:only-of-type {\n",
       "        vertical-align: middle;\n",
       "    }\n",
       "\n",
       "    .dataframe tbody tr th {\n",
       "        vertical-align: top;\n",
       "    }\n",
       "\n",
       "    .dataframe thead th {\n",
       "        text-align: right;\n",
       "    }\n",
       "</style>\n",
       "<table border=\"1\" class=\"dataframe\">\n",
       "  <thead>\n",
       "    <tr style=\"text-align: right;\">\n",
       "      <th></th>\n",
       "      <th>country</th>\n",
       "      <th>year</th>\n",
       "      <th>sex</th>\n",
       "      <th>age</th>\n",
       "      <th>suicides_no</th>\n",
       "      <th>population</th>\n",
       "    </tr>\n",
       "  </thead>\n",
       "  <tbody>\n",
       "    <tr>\n",
       "      <th>0</th>\n",
       "      <td>Albania</td>\n",
       "      <td>1985</td>\n",
       "      <td>female</td>\n",
       "      <td>15-24 years</td>\n",
       "      <td>NaN</td>\n",
       "      <td>277900.0</td>\n",
       "    </tr>\n",
       "    <tr>\n",
       "      <th>1</th>\n",
       "      <td>Albania</td>\n",
       "      <td>1985</td>\n",
       "      <td>female</td>\n",
       "      <td>25-34 years</td>\n",
       "      <td>NaN</td>\n",
       "      <td>246800.0</td>\n",
       "    </tr>\n",
       "    <tr>\n",
       "      <th>2</th>\n",
       "      <td>Albania</td>\n",
       "      <td>1985</td>\n",
       "      <td>female</td>\n",
       "      <td>35-54 years</td>\n",
       "      <td>NaN</td>\n",
       "      <td>267500.0</td>\n",
       "    </tr>\n",
       "    <tr>\n",
       "      <th>3</th>\n",
       "      <td>Albania</td>\n",
       "      <td>1985</td>\n",
       "      <td>female</td>\n",
       "      <td>5-14 years</td>\n",
       "      <td>NaN</td>\n",
       "      <td>298300.0</td>\n",
       "    </tr>\n",
       "    <tr>\n",
       "      <th>4</th>\n",
       "      <td>Albania</td>\n",
       "      <td>1985</td>\n",
       "      <td>female</td>\n",
       "      <td>55-74 years</td>\n",
       "      <td>NaN</td>\n",
       "      <td>138700.0</td>\n",
       "    </tr>\n",
       "  </tbody>\n",
       "</table>\n",
       "</div>"
      ],
      "text/plain": [
       "   country  year     sex          age  suicides_no  population\n",
       "0  Albania  1985  female  15-24 years          NaN    277900.0\n",
       "1  Albania  1985  female  25-34 years          NaN    246800.0\n",
       "2  Albania  1985  female  35-54 years          NaN    267500.0\n",
       "3  Albania  1985  female   5-14 years          NaN    298300.0\n",
       "4  Albania  1985  female  55-74 years          NaN    138700.0"
      ]
     },
     "execution_count": 4,
     "metadata": {},
     "output_type": "execute_result"
    }
   ],
   "source": [
    "\n",
    "data1.head() "
   ]
  },
  {
   "cell_type": "markdown",
   "metadata": {},
   "source": [
    "Numero de filas y columnas con las que cuenta nuestra base de datos"
   ]
  },
  {
   "cell_type": "code",
   "execution_count": 5,
   "metadata": {},
   "outputs": [
    {
     "data": {
      "text/plain": [
       "(43776, 6)"
      ]
     },
     "execution_count": 5,
     "metadata": {},
     "output_type": "execute_result"
    }
   ],
   "source": [
    "\n",
    "data1.shape "
   ]
  },
  {
   "cell_type": "markdown",
   "metadata": {},
   "source": [
    "Nos muestra los ultimos 10 datos de nuestra base de datos"
   ]
  },
  {
   "cell_type": "code",
   "execution_count": 6,
   "metadata": {
    "scrolled": true
   },
   "outputs": [
    {
     "data": {
      "text/html": [
       "<div>\n",
       "<style scoped>\n",
       "    .dataframe tbody tr th:only-of-type {\n",
       "        vertical-align: middle;\n",
       "    }\n",
       "\n",
       "    .dataframe tbody tr th {\n",
       "        vertical-align: top;\n",
       "    }\n",
       "\n",
       "    .dataframe thead th {\n",
       "        text-align: right;\n",
       "    }\n",
       "</style>\n",
       "<table border=\"1\" class=\"dataframe\">\n",
       "  <thead>\n",
       "    <tr style=\"text-align: right;\">\n",
       "      <th></th>\n",
       "      <th>country</th>\n",
       "      <th>year</th>\n",
       "      <th>sex</th>\n",
       "      <th>age</th>\n",
       "      <th>suicides_no</th>\n",
       "      <th>population</th>\n",
       "    </tr>\n",
       "  </thead>\n",
       "  <tbody>\n",
       "    <tr>\n",
       "      <th>43766</th>\n",
       "      <td>Zimbabwe</td>\n",
       "      <td>1990</td>\n",
       "      <td>female</td>\n",
       "      <td>35-54 years</td>\n",
       "      <td>45.0</td>\n",
       "      <td>NaN</td>\n",
       "    </tr>\n",
       "    <tr>\n",
       "      <th>43767</th>\n",
       "      <td>Zimbabwe</td>\n",
       "      <td>1990</td>\n",
       "      <td>female</td>\n",
       "      <td>5-14 years</td>\n",
       "      <td>6.0</td>\n",
       "      <td>NaN</td>\n",
       "    </tr>\n",
       "    <tr>\n",
       "      <th>43768</th>\n",
       "      <td>Zimbabwe</td>\n",
       "      <td>1990</td>\n",
       "      <td>female</td>\n",
       "      <td>55-74 years</td>\n",
       "      <td>20.0</td>\n",
       "      <td>NaN</td>\n",
       "    </tr>\n",
       "    <tr>\n",
       "      <th>43769</th>\n",
       "      <td>Zimbabwe</td>\n",
       "      <td>1990</td>\n",
       "      <td>female</td>\n",
       "      <td>75+ years</td>\n",
       "      <td>3.0</td>\n",
       "      <td>NaN</td>\n",
       "    </tr>\n",
       "    <tr>\n",
       "      <th>43770</th>\n",
       "      <td>Zimbabwe</td>\n",
       "      <td>1990</td>\n",
       "      <td>male</td>\n",
       "      <td>15-24 years</td>\n",
       "      <td>132.0</td>\n",
       "      <td>NaN</td>\n",
       "    </tr>\n",
       "    <tr>\n",
       "      <th>43771</th>\n",
       "      <td>Zimbabwe</td>\n",
       "      <td>1990</td>\n",
       "      <td>male</td>\n",
       "      <td>25-34 years</td>\n",
       "      <td>150.0</td>\n",
       "      <td>NaN</td>\n",
       "    </tr>\n",
       "    <tr>\n",
       "      <th>43772</th>\n",
       "      <td>Zimbabwe</td>\n",
       "      <td>1990</td>\n",
       "      <td>male</td>\n",
       "      <td>35-54 years</td>\n",
       "      <td>132.0</td>\n",
       "      <td>NaN</td>\n",
       "    </tr>\n",
       "    <tr>\n",
       "      <th>43773</th>\n",
       "      <td>Zimbabwe</td>\n",
       "      <td>1990</td>\n",
       "      <td>male</td>\n",
       "      <td>5-14 years</td>\n",
       "      <td>6.0</td>\n",
       "      <td>NaN</td>\n",
       "    </tr>\n",
       "    <tr>\n",
       "      <th>43774</th>\n",
       "      <td>Zimbabwe</td>\n",
       "      <td>1990</td>\n",
       "      <td>male</td>\n",
       "      <td>55-74 years</td>\n",
       "      <td>74.0</td>\n",
       "      <td>NaN</td>\n",
       "    </tr>\n",
       "    <tr>\n",
       "      <th>43775</th>\n",
       "      <td>Zimbabwe</td>\n",
       "      <td>1990</td>\n",
       "      <td>male</td>\n",
       "      <td>75+ years</td>\n",
       "      <td>13.0</td>\n",
       "      <td>NaN</td>\n",
       "    </tr>\n",
       "  </tbody>\n",
       "</table>\n",
       "</div>"
      ],
      "text/plain": [
       "        country  year     sex          age  suicides_no  population\n",
       "43766  Zimbabwe  1990  female  35-54 years         45.0         NaN\n",
       "43767  Zimbabwe  1990  female   5-14 years          6.0         NaN\n",
       "43768  Zimbabwe  1990  female  55-74 years         20.0         NaN\n",
       "43769  Zimbabwe  1990  female    75+ years          3.0         NaN\n",
       "43770  Zimbabwe  1990    male  15-24 years        132.0         NaN\n",
       "43771  Zimbabwe  1990    male  25-34 years        150.0         NaN\n",
       "43772  Zimbabwe  1990    male  35-54 years        132.0         NaN\n",
       "43773  Zimbabwe  1990    male   5-14 years          6.0         NaN\n",
       "43774  Zimbabwe  1990    male  55-74 years         74.0         NaN\n",
       "43775  Zimbabwe  1990    male    75+ years         13.0         NaN"
      ]
     },
     "execution_count": 6,
     "metadata": {},
     "output_type": "execute_result"
    }
   ],
   "source": [
    " \n",
    "data1.tail(10) "
   ]
  },
  {
   "cell_type": "markdown",
   "metadata": {},
   "source": [
    "Queremos ver los nombres de nuestras columnas"
   ]
  },
  {
   "cell_type": "code",
   "execution_count": 7,
   "metadata": {},
   "outputs": [
    {
     "data": {
      "text/plain": [
       "Index(['country', 'year', 'sex', 'age', 'suicides_no', 'population'], dtype='object')"
      ]
     },
     "execution_count": 7,
     "metadata": {},
     "output_type": "execute_result"
    }
   ],
   "source": [
    "\n",
    "data1.columns"
   ]
  },
  {
   "cell_type": "markdown",
   "metadata": {},
   "source": [
    "Vemos que los nombres están en inglés, por lo que los cambiamos"
   ]
  },
  {
   "cell_type": "code",
   "execution_count": 8,
   "metadata": {},
   "outputs": [],
   "source": [
    "\n",
    "a= data1.rename(columns = {'country':'País','year':'Año','sex':'Género','age':'Rango_De_Edad','suicides_no':'Número_De_Suicidios','population':'Población'})"
   ]
  },
  {
   "cell_type": "markdown",
   "metadata": {},
   "source": [
    "Tipos de datos de nuestras columnas"
   ]
  },
  {
   "cell_type": "code",
   "execution_count": 9,
   "metadata": {},
   "outputs": [
    {
     "data": {
      "text/plain": [
       "País                    object\n",
       "Año                      int64\n",
       "Género                  object\n",
       "Rango_De_Edad           object\n",
       "Número_De_Suicidios    float64\n",
       "Población              float64\n",
       "dtype: object"
      ]
     },
     "execution_count": 9,
     "metadata": {},
     "output_type": "execute_result"
    }
   ],
   "source": [
    "\n",
    "a.dtypes"
   ]
  },
  {
   "cell_type": "markdown",
   "metadata": {},
   "source": [
    "Tipo de dato para una columna en especifico"
   ]
  },
  {
   "cell_type": "code",
   "execution_count": 10,
   "metadata": {},
   "outputs": [
    {
     "data": {
      "text/plain": [
       "dtype('int64')"
      ]
     },
     "execution_count": 10,
     "metadata": {},
     "output_type": "execute_result"
    }
   ],
   "source": [
    "\n",
    "a['Año'].dtype "
   ]
  },
  {
   "cell_type": "markdown",
   "metadata": {},
   "source": [
    "Para tener solo dos tipos de datos en nuestra base, hacemos un cambio de enteros a flotantes"
   ]
  },
  {
   "cell_type": "code",
   "execution_count": 11,
   "metadata": {},
   "outputs": [
    {
     "data": {
      "text/plain": [
       "0        1985.0\n",
       "1        1985.0\n",
       "2        1985.0\n",
       "3        1985.0\n",
       "4        1985.0\n",
       "          ...  \n",
       "43771    1990.0\n",
       "43772    1990.0\n",
       "43773    1990.0\n",
       "43774    1990.0\n",
       "43775    1990.0\n",
       "Name: Año, Length: 43776, dtype: float64"
      ]
     },
     "execution_count": 11,
     "metadata": {},
     "output_type": "execute_result"
    }
   ],
   "source": [
    "\n",
    "a.Año.astype(\"float\") "
   ]
  },
  {
   "cell_type": "markdown",
   "metadata": {},
   "source": [
    " informacion resumida de nuestra base de datos"
   ]
  },
  {
   "cell_type": "code",
   "execution_count": 12,
   "metadata": {},
   "outputs": [
    {
     "data": {
      "text/html": [
       "<div>\n",
       "<style scoped>\n",
       "    .dataframe tbody tr th:only-of-type {\n",
       "        vertical-align: middle;\n",
       "    }\n",
       "\n",
       "    .dataframe tbody tr th {\n",
       "        vertical-align: top;\n",
       "    }\n",
       "\n",
       "    .dataframe thead th {\n",
       "        text-align: right;\n",
       "    }\n",
       "</style>\n",
       "<table border=\"1\" class=\"dataframe\">\n",
       "  <thead>\n",
       "    <tr style=\"text-align: right;\">\n",
       "      <th></th>\n",
       "      <th>Año</th>\n",
       "      <th>Número_De_Suicidios</th>\n",
       "      <th>Población</th>\n",
       "    </tr>\n",
       "  </thead>\n",
       "  <tbody>\n",
       "    <tr>\n",
       "      <th>count</th>\n",
       "      <td>43776.000000</td>\n",
       "      <td>41520.000000</td>\n",
       "      <td>3.831600e+04</td>\n",
       "    </tr>\n",
       "    <tr>\n",
       "      <th>mean</th>\n",
       "      <td>1998.502467</td>\n",
       "      <td>193.315390</td>\n",
       "      <td>1.664091e+06</td>\n",
       "    </tr>\n",
       "    <tr>\n",
       "      <th>std</th>\n",
       "      <td>10.338711</td>\n",
       "      <td>800.589926</td>\n",
       "      <td>3.647231e+06</td>\n",
       "    </tr>\n",
       "    <tr>\n",
       "      <th>min</th>\n",
       "      <td>1979.000000</td>\n",
       "      <td>0.000000</td>\n",
       "      <td>2.590000e+02</td>\n",
       "    </tr>\n",
       "    <tr>\n",
       "      <th>25%</th>\n",
       "      <td>1990.000000</td>\n",
       "      <td>1.000000</td>\n",
       "      <td>8.511275e+04</td>\n",
       "    </tr>\n",
       "    <tr>\n",
       "      <th>50%</th>\n",
       "      <td>1999.000000</td>\n",
       "      <td>14.000000</td>\n",
       "      <td>3.806550e+05</td>\n",
       "    </tr>\n",
       "    <tr>\n",
       "      <th>75%</th>\n",
       "      <td>2007.000000</td>\n",
       "      <td>91.000000</td>\n",
       "      <td>1.305698e+06</td>\n",
       "    </tr>\n",
       "    <tr>\n",
       "      <th>max</th>\n",
       "      <td>2016.000000</td>\n",
       "      <td>22338.000000</td>\n",
       "      <td>4.380521e+07</td>\n",
       "    </tr>\n",
       "  </tbody>\n",
       "</table>\n",
       "</div>"
      ],
      "text/plain": [
       "                Año  Número_De_Suicidios     Población\n",
       "count  43776.000000         41520.000000  3.831600e+04\n",
       "mean    1998.502467           193.315390  1.664091e+06\n",
       "std       10.338711           800.589926  3.647231e+06\n",
       "min     1979.000000             0.000000  2.590000e+02\n",
       "25%     1990.000000             1.000000  8.511275e+04\n",
       "50%     1999.000000            14.000000  3.806550e+05\n",
       "75%     2007.000000            91.000000  1.305698e+06\n",
       "max     2016.000000         22338.000000  4.380521e+07"
      ]
     },
     "execution_count": 12,
     "metadata": {},
     "output_type": "execute_result"
    }
   ],
   "source": [
    "\n",
    "a.describe()"
   ]
  },
  {
   "cell_type": "markdown",
   "metadata": {},
   "source": [
    "Aqui podemos observar el numero total de suicidios por pais"
   ]
  },
  {
   "cell_type": "code",
   "execution_count": 13,
   "metadata": {},
   "outputs": [
    {
     "data": {
      "text/plain": [
       "País\n",
       "Russian Federation          1500992.0\n",
       "United States of America    1201401.0\n",
       "Japan                        937614.0\n",
       "France                       395500.0\n",
       "Ukraine                      365170.0\n",
       "Germany                      291262.0\n",
       "Republic of Korea            261730.0\n",
       "Brazil                       250824.0\n",
       "Poland                       172562.0\n",
       "United Kingdom               166314.0\n",
       "Italy                        157074.0\n",
       "Hungary                      130018.0\n",
       "Thailand                     129899.0\n",
       "Canada                       128382.0\n",
       "Kazakhstan                   123151.0\n",
       "Mexico                       117479.0\n",
       "Spain                        110097.0\n",
       "Argentina                     93862.0\n",
       "Sri Lanka                     80747.0\n",
       "Australia                     80279.0\n",
       "Belgium                       75948.0\n",
       "Belarus                       74974.0\n",
       "Romania                       72793.0\n",
       "Netherlands                   60205.0\n",
       "Austria                       60179.0\n",
       "Colombia                      54136.0\n",
       "Czech Republic                51664.0\n",
       "Chile                         44126.0\n",
       "Uzbekistan                    44063.0\n",
       "Bulgaria                      42868.0\n",
       "Name: Número_De_Suicidios, dtype: float64"
      ]
     },
     "execution_count": 13,
     "metadata": {},
     "output_type": "execute_result"
    }
   ],
   "source": [
    "\n",
    "country=a[\"Número_De_Suicidios\"].groupby(a[\"País\"]).sum().sort_values(ascending=False)\n",
    "country.head(30)"
   ]
  },
  {
   "cell_type": "markdown",
   "metadata": {},
   "source": [
    "Vemos si existen datos nulos en nuestras columnas\n",
    " FALSE = NO ^ TRUE = SÍ"
   ]
  },
  {
   "cell_type": "code",
   "execution_count": 14,
   "metadata": {},
   "outputs": [
    {
     "data": {
      "text/plain": [
       "País                   False\n",
       "Año                    False\n",
       "Género                 False\n",
       "Rango_De_Edad          False\n",
       "Número_De_Suicidios     True\n",
       "Población               True\n",
       "dtype: bool"
      ]
     },
     "execution_count": 14,
     "metadata": {},
     "output_type": "execute_result"
    }
   ],
   "source": [
    "\n",
    "a.isnull().any()"
   ]
  },
  {
   "cell_type": "markdown",
   "metadata": {},
   "source": [
    "Como obtuvimos que si, contamos En nuestra base de datos el no tener un dato en numero de suicidio puede ser algo positivo y es por eso que tomamos la decisión de no eliminar columnas o filas"
   ]
  },
  {
   "cell_type": "code",
   "execution_count": 15,
   "metadata": {},
   "outputs": [
    {
     "data": {
      "text/plain": [
       "País                      0\n",
       "Año                       0\n",
       "Género                    0\n",
       "Rango_De_Edad             0\n",
       "Número_De_Suicidios    2256\n",
       "Población              5460\n",
       "dtype: int64"
      ]
     },
     "execution_count": 15,
     "metadata": {},
     "output_type": "execute_result"
    }
   ],
   "source": [
    "\n",
    "a.isnull().sum()"
   ]
  },
  {
   "cell_type": "markdown",
   "metadata": {},
   "source": [
    "LLenamos nuestros espacios nulos con ceros para tener una mejor vista de nuestra base"
   ]
  },
  {
   "cell_type": "code",
   "execution_count": 41,
   "metadata": {},
   "outputs": [],
   "source": [
    "\n",
    "b = a_0 = a.fillna(0)"
   ]
  },
  {
   "cell_type": "markdown",
   "metadata": {},
   "source": [
    "Mandamos llamar a nuestra base con los cambios realizados"
   ]
  },
  {
   "cell_type": "code",
   "execution_count": 12,
   "metadata": {},
   "outputs": [],
   "source": [
    "import pandas as pd \n",
    "pd.plotting.register_matplotlib_converters()\n",
    "import matplotlib.pyplot as plt \n",
    "%matplotlib inline \n",
    "import seaborn as sns\n",
    "bd= \"C:/Users/andhd/Downloads/who_suicide_statistics.csv\"\n",
    "base= pd.read_csv(bd, header = 0)"
   ]
  },
  {
   "cell_type": "markdown",
   "metadata": {},
   "source": [
    "## VISUALIZACION\n",
    "### Mandamos llamar a nuestra base de datos\n",
    "- Realizamos algunas acciones para poder visualizar y trabajar mejor.\n",
    "\n",
    "Quisimos manejar el pequeño resumen desde el principio para ver las diferencias a lo largo del trabajo."
   ]
  },
  {
   "cell_type": "code",
   "execution_count": 1,
   "metadata": {},
   "outputs": [
    {
     "data": {
      "text/html": [
       "<div>\n",
       "<style scoped>\n",
       "    .dataframe tbody tr th:only-of-type {\n",
       "        vertical-align: middle;\n",
       "    }\n",
       "\n",
       "    .dataframe tbody tr th {\n",
       "        vertical-align: top;\n",
       "    }\n",
       "\n",
       "    .dataframe thead th {\n",
       "        text-align: right;\n",
       "    }\n",
       "</style>\n",
       "<table border=\"1\" class=\"dataframe\">\n",
       "  <thead>\n",
       "    <tr style=\"text-align: right;\">\n",
       "      <th></th>\n",
       "      <th>Año</th>\n",
       "      <th>Número_De_Suicidios</th>\n",
       "      <th>Población</th>\n",
       "    </tr>\n",
       "  </thead>\n",
       "  <tbody>\n",
       "    <tr>\n",
       "      <th>count</th>\n",
       "      <td>43776.000000</td>\n",
       "      <td>43776.000000</td>\n",
       "      <td>4.377600e+04</td>\n",
       "    </tr>\n",
       "    <tr>\n",
       "      <th>mean</th>\n",
       "      <td>1998.502467</td>\n",
       "      <td>183.352865</td>\n",
       "      <td>1.456536e+06</td>\n",
       "    </tr>\n",
       "    <tr>\n",
       "      <th>std</th>\n",
       "      <td>10.338711</td>\n",
       "      <td>780.857898</td>\n",
       "      <td>3.456217e+06</td>\n",
       "    </tr>\n",
       "    <tr>\n",
       "      <th>min</th>\n",
       "      <td>1979.000000</td>\n",
       "      <td>0.000000</td>\n",
       "      <td>0.000000e+00</td>\n",
       "    </tr>\n",
       "    <tr>\n",
       "      <th>25%</th>\n",
       "      <td>1990.000000</td>\n",
       "      <td>0.000000</td>\n",
       "      <td>2.520000e+04</td>\n",
       "    </tr>\n",
       "    <tr>\n",
       "      <th>50%</th>\n",
       "      <td>1999.000000</td>\n",
       "      <td>11.000000</td>\n",
       "      <td>2.979955e+05</td>\n",
       "    </tr>\n",
       "    <tr>\n",
       "      <th>75%</th>\n",
       "      <td>2007.000000</td>\n",
       "      <td>83.000000</td>\n",
       "      <td>1.067009e+06</td>\n",
       "    </tr>\n",
       "    <tr>\n",
       "      <th>max</th>\n",
       "      <td>2016.000000</td>\n",
       "      <td>22338.000000</td>\n",
       "      <td>4.380521e+07</td>\n",
       "    </tr>\n",
       "  </tbody>\n",
       "</table>\n",
       "</div>"
      ],
      "text/plain": [
       "                Año  Número_De_Suicidios     Población\n",
       "count  43776.000000         43776.000000  4.377600e+04\n",
       "mean    1998.502467           183.352865  1.456536e+06\n",
       "std       10.338711           780.857898  3.456217e+06\n",
       "min     1979.000000             0.000000  0.000000e+00\n",
       "25%     1990.000000             0.000000  2.520000e+04\n",
       "50%     1999.000000            11.000000  2.979955e+05\n",
       "75%     2007.000000            83.000000  1.067009e+06\n",
       "max     2016.000000         22338.000000  4.380521e+07"
      ]
     },
     "execution_count": 1,
     "metadata": {},
     "output_type": "execute_result"
    }
   ],
   "source": [
    "import pandas as pd\n",
    "import numpy as np \n",
    "data1 = pd.read_csv(\"C:/Users/andhd/Downloads/who_suicide_statistics.csv\")\n",
    "df = data1.rename(columns = {'country':'País','year':'Año','sex':'Género','age':'Rango_De_Edad','suicides_no':'Número_De_Suicidios','population':'Población'})\n",
    "data = df_0 = df.fillna(0)\n",
    "data.describe()"
   ]
  },
  {
   "cell_type": "markdown",
   "metadata": {},
   "source": [
    "#### Información de estadística básica\n",
    "- Por lo pronto nos enfocamos en la columna número cinco, para obtener información.\n",
    "\n",
    "Si realizabamos directamente la función mean (o cualquier otra) con la columa 'Número_De_Suicidios' no tendría tanta coherencia por el echo de que nuestra base de datos contiene más de una fila de un mismo páis. Por lo que, con esta función sumamos el número de suicidios por país independientemente del rango de edad y año."
   ]
  },
  {
   "cell_type": "code",
   "execution_count": 2,
   "metadata": {},
   "outputs": [
    {
     "data": {
      "text/plain": [
       "País\n",
       "Russian Federation          1500992.0\n",
       "United States of America    1201401.0\n",
       "Japan                        937614.0\n",
       "France                       395500.0\n",
       "Ukraine                      365170.0\n",
       "Germany                      291262.0\n",
       "Republic of Korea            261730.0\n",
       "Brazil                       250824.0\n",
       "Poland                       172562.0\n",
       "United Kingdom               166314.0\n",
       "Italy                        157074.0\n",
       "Hungary                      130018.0\n",
       "Thailand                     129899.0\n",
       "Canada                       128382.0\n",
       "Kazakhstan                   123151.0\n",
       "Name: Número_De_Suicidios, dtype: float64"
      ]
     },
     "execution_count": 2,
     "metadata": {},
     "output_type": "execute_result"
    }
   ],
   "source": [
    "country = data[\"Número_De_Suicidios\"].groupby(data[\"País\"]).sum().sort_values(ascending=False)\n",
    "country.head(15)\n"
   ]
  },
  {
   "cell_type": "markdown",
   "metadata": {},
   "source": [
    "En la parte superior acomodamos descendientemente, esto quiere decir que nos muestra el país con mayor número de suicidios en primer lugar, en este caso resultó ser la Federación Russa. \n",
    "\n",
    "Pero no hay que olvidar que también podemos mostrar el país en último lugar, para ver quién es el páis con menor índice de suicidios."
   ]
  },
  {
   "cell_type": "code",
   "execution_count": 3,
   "metadata": {},
   "outputs": [
    {
     "data": {
      "text/plain": [
       "País\n",
       "Falkland Islands (Malvinas)    1.0\n",
       "Montserrat                     1.0\n",
       "Name: Número_De_Suicidios, dtype: float64"
      ]
     },
     "execution_count": 3,
     "metadata": {},
     "output_type": "execute_result"
    }
   ],
   "source": [
    "country.tail(2)"
   ]
  },
  {
   "cell_type": "markdown",
   "metadata": {},
   "source": [
    "Arriba podemos ver un empate en último lugar.\n",
    "\n",
    "Ahora bien, igual que al principio queremos mostrar el pequeño resumen pero ahora de nuestra data country para comparar los datos a lo largo de la actividad."
   ]
  },
  {
   "cell_type": "code",
   "execution_count": 4,
   "metadata": {},
   "outputs": [
    {
     "data": {
      "text/plain": [
       "count    1.410000e+02\n",
       "mean     5.692521e+04\n",
       "std      1.865397e+05\n",
       "min      1.000000e+00\n",
       "25%      1.350000e+02\n",
       "50%      4.447000e+03\n",
       "75%      2.950400e+04\n",
       "max      1.500992e+06\n",
       "Name: Número_De_Suicidios, dtype: float64"
      ]
     },
     "execution_count": 4,
     "metadata": {},
     "output_type": "execute_result"
    }
   ],
   "source": [
    "country.describe()"
   ]
  },
  {
   "cell_type": "markdown",
   "metadata": {},
   "source": [
    "Calculando la media del número de suicidios de los países de un determinado lapso de tiempo.\n"
   ]
  },
  {
   "cell_type": "code",
   "execution_count": 5,
   "metadata": {},
   "outputs": [
    {
     "name": "stdout",
     "output_type": "stream",
     "text": [
      "La media es: 56925.21276595745\n"
     ]
    }
   ],
   "source": [
    "a = country.mean()\n",
    "print(\"La media es:\", a) # Coinciden"
   ]
  },
  {
   "cell_type": "markdown",
   "metadata": {},
   "source": [
    "Al seguir trabajando con nuestra data 'country' calculamos ciertas medidas de dispersión como lo son la varianza, la mediana y la desviación estándar."
   ]
  },
  {
   "cell_type": "code",
   "execution_count": 6,
   "metadata": {},
   "outputs": [
    {
     "name": "stdout",
     "output_type": "stream",
     "text": [
      "Mediana:  4447.0\n",
      "Varianza:  34797066985.883\n",
      "Desviación estándar:  186539.71959312848\n"
     ]
    }
   ],
   "source": [
    "print(\"Mediana: \",country.median())\n",
    "print(\"Varianza: \",country.var())\n",
    "print(\"Desviación estándar: \",country.std())"
   ]
  },
  {
   "cell_type": "markdown",
   "metadata": {},
   "source": [
    "Al proseguir con el valor de asimetría, nos damos cuenta que es un valor 'positivo' y esto nos indica que la distribución de nuestros datos están sesgados hacia la izquierda."
   ]
  },
  {
   "cell_type": "code",
   "execution_count": 7,
   "metadata": {},
   "outputs": [
    {
     "name": "stdout",
     "output_type": "stream",
     "text": [
      "El valor de asimetría es 5.894440487629342 mientras que su forma de distribución es 38.16214185471467\n"
     ]
    }
   ],
   "source": [
    "dd = country.skew()\n",
    "print(\"El valor de asimetría es\",dd,\"mientras que su forma de distribución es\",country.kurt())"
   ]
  },
  {
   "cell_type": "markdown",
   "metadata": {},
   "source": [
    "Como la columna población representa las personas vivas, realizamos lo siguiente:"
   ]
  },
  {
   "cell_type": "code",
   "execution_count": 8,
   "metadata": {},
   "outputs": [
    {
     "data": {
      "text/plain": [
       "País\n",
       "United States of America    9.637475e+09\n",
       "Brazil                      5.506640e+09\n",
       "Russian Federation          4.868343e+09\n",
       "Japan                       4.340184e+09\n",
       "Mexico                      3.134138e+09\n",
       "Name: Población, dtype: float64"
      ]
     },
     "execution_count": 8,
     "metadata": {},
     "output_type": "execute_result"
    }
   ],
   "source": [
    "p = data[\"Población\"].groupby(data[\"País\"]).sum().sort_values(ascending=False)\n",
    "p.head(5)"
   ]
  },
  {
   "cell_type": "markdown",
   "metadata": {},
   "source": [
    "Calculamos la suma, la media y otras medidas de dispersión de la población total de los países respecto a los años 1979-2016."
   ]
  },
  {
   "cell_type": "code",
   "execution_count": 9,
   "metadata": {},
   "outputs": [
    {
     "name": "stdout",
     "output_type": "stream",
     "text": [
      "Suma: 63761315943.0\n",
      "Promedio 452207914.4893617\n",
      "Mediana: 58977219.0\n",
      "Varianza 1.3432119247902979e+18\n",
      "Desviación estándar 1158970200.1303992\n"
     ]
    }
   ],
   "source": [
    "print(\"Suma:\",p.sum())\n",
    "print(\"Promedio\",p.mean())\n",
    "print(\"Mediana:\",p.median())\n",
    "print(\"Varianza\",p.var())\n",
    "print(\"Desviación estándar\",p.std())"
   ]
  },
  {
   "cell_type": "markdown",
   "metadata": {},
   "source": [
    "Ahora bien, relacionamos nuestras columnas"
   ]
  },
  {
   "cell_type": "code",
   "execution_count": 10,
   "metadata": {},
   "outputs": [
    {
     "data": {
      "text/html": [
       "<div>\n",
       "<style scoped>\n",
       "    .dataframe tbody tr th:only-of-type {\n",
       "        vertical-align: middle;\n",
       "    }\n",
       "\n",
       "    .dataframe tbody tr th {\n",
       "        vertical-align: top;\n",
       "    }\n",
       "\n",
       "    .dataframe thead th {\n",
       "        text-align: right;\n",
       "    }\n",
       "</style>\n",
       "<table border=\"1\" class=\"dataframe\">\n",
       "  <thead>\n",
       "    <tr style=\"text-align: right;\">\n",
       "      <th></th>\n",
       "      <th>Año</th>\n",
       "      <th>Número_De_Suicidios</th>\n",
       "      <th>Población</th>\n",
       "    </tr>\n",
       "  </thead>\n",
       "  <tbody>\n",
       "    <tr>\n",
       "      <th>Año</th>\n",
       "      <td>1.000000</td>\n",
       "      <td>-0.000151</td>\n",
       "      <td>0.020063</td>\n",
       "    </tr>\n",
       "    <tr>\n",
       "      <th>Número_De_Suicidios</th>\n",
       "      <td>-0.000151</td>\n",
       "      <td>1.000000</td>\n",
       "      <td>0.606452</td>\n",
       "    </tr>\n",
       "    <tr>\n",
       "      <th>Población</th>\n",
       "      <td>0.020063</td>\n",
       "      <td>0.606452</td>\n",
       "      <td>1.000000</td>\n",
       "    </tr>\n",
       "  </tbody>\n",
       "</table>\n",
       "</div>"
      ],
      "text/plain": [
       "                          Año  Número_De_Suicidios  Población\n",
       "Año                  1.000000            -0.000151   0.020063\n",
       "Número_De_Suicidios -0.000151             1.000000   0.606452\n",
       "Población            0.020063             0.606452   1.000000"
      ]
     },
     "execution_count": 10,
     "metadata": {},
     "output_type": "execute_result"
    }
   ],
   "source": [
    "data.corr()"
   ]
  },
  {
   "cell_type": "code",
   "execution_count": 11,
   "metadata": {},
   "outputs": [
    {
     "data": {
      "text/html": [
       "<div>\n",
       "<style scoped>\n",
       "    .dataframe tbody tr th:only-of-type {\n",
       "        vertical-align: middle;\n",
       "    }\n",
       "\n",
       "    .dataframe tbody tr th {\n",
       "        vertical-align: top;\n",
       "    }\n",
       "\n",
       "    .dataframe thead th {\n",
       "        text-align: right;\n",
       "    }\n",
       "</style>\n",
       "<table border=\"1\" class=\"dataframe\">\n",
       "  <thead>\n",
       "    <tr style=\"text-align: right;\">\n",
       "      <th></th>\n",
       "      <th>Año</th>\n",
       "      <th>Número_De_Suicidios</th>\n",
       "      <th>Población</th>\n",
       "    </tr>\n",
       "  </thead>\n",
       "  <tbody>\n",
       "    <tr>\n",
       "      <th>Año</th>\n",
       "      <td>106.888949</td>\n",
       "      <td>-1.216759e+00</td>\n",
       "      <td>7.169147e+05</td>\n",
       "    </tr>\n",
       "    <tr>\n",
       "      <th>Número_De_Suicidios</th>\n",
       "      <td>-1.216759</td>\n",
       "      <td>6.097391e+05</td>\n",
       "      <td>1.636702e+09</td>\n",
       "    </tr>\n",
       "    <tr>\n",
       "      <th>Población</th>\n",
       "      <td>716914.663172</td>\n",
       "      <td>1.636702e+09</td>\n",
       "      <td>1.194544e+13</td>\n",
       "    </tr>\n",
       "  </tbody>\n",
       "</table>\n",
       "</div>"
      ],
      "text/plain": [
       "                               Año  Número_De_Suicidios     Población\n",
       "Año                     106.888949        -1.216759e+00  7.169147e+05\n",
       "Número_De_Suicidios      -1.216759         6.097391e+05  1.636702e+09\n",
       "Población            716914.663172         1.636702e+09  1.194544e+13"
      ]
     },
     "execution_count": 11,
     "metadata": {},
     "output_type": "execute_result"
    }
   ],
   "source": [
    "data.cov()"
   ]
  },
  {
   "cell_type": "markdown",
   "metadata": {},
   "source": [
    "### Gráfico de Barras"
   ]
  },
  {
   "cell_type": "code",
   "execution_count": 24,
   "metadata": {
    "scrolled": true
   },
   "outputs": [
    {
     "data": {
      "text/plain": [
       "Text(0.5, 1.0, 'Numero de Suicidios por pais')"
      ]
     },
     "execution_count": 24,
     "metadata": {},
     "output_type": "execute_result"
    },
    {
     "data": {
      "image/png": "[encoded data removed]",
      "text/plain": [
       "<Figure size 432x288 with 1 Axes>"
      ]
     },
     "metadata": {
      "needs_background": "light"
     },
     "output_type": "display_data"
    }
   ],
   "source": [
    "sns.barplot(x=base['country'],y=base['suicides_no'])\n",
    "plt.title(\"Numero de Suicidios por pais\")"
   ]
  },
  {
   "cell_type": "markdown",
   "metadata": {},
   "source": [
    "Conclusion: Hay mucha diferencia entre paises, hay unos en los que se nota que tienen alto nivel de suicidios y otros paises muy pocos suicidios"
   ]
  },
  {
   "cell_type": "markdown",
   "metadata": {},
   "source": [
    "## Gráfico de Pastel\n",
    "\n",
    "## Sexo"
   ]
  },
  {
   "cell_type": "code",
   "execution_count": 39,
   "metadata": {},
   "outputs": [
    {
     "data": {
      "image/png": "[encoded data removed]",
      "text/plain": [
       "<Figure size 576x576 with 1 Axes>"
      ]
     },
     "metadata": {},
     "output_type": "display_data"
    }
   ],
   "source": [
    "import matplotlib as plt \n",
    "from matplotlib import pyplot\n",
    "from matplotlib import colors \n",
    "from matplotlib import cm \n",
    "plt.pyplot.figure(figsize=(8,8))\n",
    "base['sex'].value_counts().plot.pie(autopct=\"%0.1f%%\")\n",
    "plt.pyplot.title(\"Porcentaje de Hombres y Mujeres\")\n",
    "plt.pyplot.show()"
   ]
  },
  {
   "cell_type": "markdown",
   "metadata": {},
   "source": [
    "## Edades"
   ]
  },
  {
   "cell_type": "code",
   "execution_count": 38,
   "metadata": {},
   "outputs": [
    {
     "data": {
      "image/png": "[encoded data removed]",
      "text/plain": [
       "<Figure size 576x576 with 1 Axes>"
      ]
     },
     "metadata": {},
     "output_type": "display_data"
    }
   ],
   "source": [
    "import matplotlib as plt \n",
    "from matplotlib import pyplot\n",
    "from matplotlib import colors \n",
    "from matplotlib import cm \n",
    "plt.pyplot.figure(figsize=(8,8))\n",
    "base['age'].value_counts().plot.pie(autopct=\"%0.1f%%\")\n",
    "plt.pyplot.title(\"Porcentaje de Edades\")\n",
    "plt.pyplot.show()"
   ]
  },
  {
   "cell_type": "markdown",
   "metadata": {},
   "source": [
    "## Histograma"
   ]
  },
  {
   "cell_type": "markdown",
   "metadata": {},
   "source": [
    "## Sexo"
   ]
  },
  {
   "cell_type": "code",
   "execution_count": 34,
   "metadata": {},
   "outputs": [
    {
     "data": {
      "text/plain": [
       "<AxesSubplot:xlabel='sex', ylabel='Count'>"
      ]
     },
     "execution_count": 34,
     "metadata": {},
     "output_type": "execute_result"
    },
    {
     "data": {
      "image/png": "[encoded data removed]",
      "text/plain": [
       "<Figure size 432x288 with 1 Axes>"
      ]
     },
     "metadata": {
      "needs_background": "light"
     },
     "output_type": "display_data"
    }
   ],
   "source": [
    "sns.histplot(base[\"sex\"])\n"
   ]
  },
  {
   "cell_type": "markdown",
   "metadata": {},
   "source": [
    "## Edades"
   ]
  },
  {
   "cell_type": "code",
   "execution_count": 35,
   "metadata": {},
   "outputs": [
    {
     "data": {
      "text/plain": [
       "<AxesSubplot:xlabel='age', ylabel='Count'>"
      ]
     },
     "execution_count": 35,
     "metadata": {},
     "output_type": "execute_result"
    },
    {
     "data": {
      "image/png": "[encoded data removed]",
      "text/plain": [
       "<Figure size 432x288 with 1 Axes>"
      ]
     },
     "metadata": {
      "needs_background": "light"
     },
     "output_type": "display_data"
    }
   ],
   "source": [
    "sns.histplot(base[\"age\"])"
   ]
  },
  {
   "cell_type": "markdown",
   "metadata": {},
   "source": [
    "### Conclusion general\n"
   ]
  }
 ],
 "metadata": {
  "kernelspec": {
   "display_name": "Python 3",
   "language": "python",
   "name": "python3"
  },
  "language_info": {
   "codemirror_mode": {
    "name": "ipython",
    "version": 3
   },
   "file_extension": ".py",
   "mimetype": "text/x-python",
   "name": "python",
   "nbconvert_exporter": "python",
   "pygments_lexer": "ipython3",
   "version": "3.8.5"
  }
 },
 "nbformat": 4,
 "nbformat_minor": 4
}
